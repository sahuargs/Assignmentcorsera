{
 "cells": [
  {
   "cell_type": "markdown",
   "id": "662fae35-0dca-43b0-8df8-707d11194a88",
   "metadata": {},
   "source": [
    "# Data Science Tools and Ecosystem"
   ]
  },
  {
   "cell_type": "markdown",
   "id": "dc478ee1-5b06-4817-b742-5b1292304c1c",
   "metadata": {},
   "source": [
    "In this notebook, Data Science Tools and Ecosystem are summarized."
   ]
  },
  {
   "cell_type": "markdown",
   "id": "83347262-ebc3-4775-8da3-95226ee5d319",
   "metadata": {},
   "source": [
    "Some of the popular languages that Data Scientists use are:\n",
    "\n",
    "1) Python\n",
    "2) R\n",
    "3) Scala\n",
    "4) Java\n",
    "\n",
    "**Objectives:**\n",
    "- Learned about popular languages in data science\n",
    "- Learned about popular libraries in data science\n",
    "- Learned basics of programing and using popular data science tools \n"
   ]
  },
  {
   "cell_type": "markdown",
   "id": "b69b4fae-e09d-40a8-b932-76e12ecd5806",
   "metadata": {},
   "source": [
    "Some of the commonly used libraries used by Data Scientists include:\n",
    "\n",
    "1) Matplotlib\n",
    "2) Pandas\n",
    "3) Scipy\n",
    "4) Numpy"
   ]
  },
  {
   "cell_type": "markdown",
   "id": "944ea96f-ea63-4124-81ba-1817f5aa66e1",
   "metadata": {},
   "source": [
    "|Data Science tools|\n",
    "|----|\n",
    "|JupyterNotebook|\n",
    "|Github|\n",
    "|Apache spark|\n"
   ]
  },
  {
   "cell_type": "markdown",
   "id": "f9f56fdc-d553-4301-bf94-43db99d8ba90",
   "metadata": {},
   "source": [
    "### Below are a few examples of evaluating arithmetic expressions in Python.\n",
    "\n",
    "- 2+3=5\n",
    "- 3-2=1\n",
    "- 2*2=4\n",
    "- 6/2=3\n"
   ]
  },
  {
   "cell_type": "code",
   "execution_count": 1,
   "id": "acd6ff45-a81c-49a2-bf2f-ba15a64eb653",
   "metadata": {
    "tags": []
   },
   "outputs": [
    {
     "data": {
      "text/plain": [
       "17"
      ]
     },
     "execution_count": 1,
     "metadata": {},
     "output_type": "execute_result"
    }
   ],
   "source": [
    "# This a simple arithmetic expression to mutiply then add integers\n",
    "(3*4)+5"
   ]
  },
  {
   "cell_type": "code",
   "execution_count": 2,
   "id": "87c85c03-1599-489c-9015-d97ad91a5510",
   "metadata": {
    "tags": []
   },
   "outputs": [
    {
     "data": {
      "text/plain": [
       "3.3333333333333335"
      ]
     },
     "execution_count": 2,
     "metadata": {},
     "output_type": "execute_result"
    }
   ],
   "source": [
    "# This will convert 200 minutes to hours by dividing by 60\n",
    "200/60"
   ]
  },
  {
   "cell_type": "markdown",
   "id": "29e3033b-e8b7-48b9-af15-c3ddc9a63f36",
   "metadata": {},
   "source": [
    "## Author\n",
    "\n",
    "Avinash Sahu"
   ]
  },
  {
   "cell_type": "code",
   "execution_count": null,
   "id": "5e97f6e9-0283-4207-9952-23bbe96f0029",
   "metadata": {},
   "outputs": [],
   "source": []
  }
 ],
 "metadata": {
  "kernelspec": {
   "display_name": "Python",
   "language": "python",
   "name": "conda-env-python-py"
  },
  "language_info": {
   "codemirror_mode": {
    "name": "ipython",
    "version": 3
   },
   "file_extension": ".py",
   "mimetype": "text/x-python",
   "name": "python",
   "nbconvert_exporter": "python",
   "pygments_lexer": "ipython3",
   "version": "3.7.12"
  }
 },
 "nbformat": 4,
 "nbformat_minor": 5
}
